{
 "cells": [
  {
   "cell_type": "code",
   "execution_count": 52,
   "id": "32202203",
   "metadata": {},
   "outputs": [],
   "source": [
    "import pandas as pd\n",
    "import matplotlib.pyplot as plt\n",
    "from tensorflow.keras.models import Sequential\n",
    "from tensorflow.keras.layers import LSTM, Dense, Dropout\n",
    "import datetime\n",
    "from dateutil import parser\n",
    "import numpy as np\n"
   ]
  },
  {
   "cell_type": "markdown",
   "id": "8876e227",
   "metadata": {},
   "source": [
    "## Exploartory Dataset"
   ]
  },
  {
   "cell_type": "code",
   "execution_count": 53,
   "id": "9c5b68ac",
   "metadata": {},
   "outputs": [],
   "source": [
    "dataset = pd.read_csv('covid19-indonesia.csv')"
   ]
  },
  {
   "cell_type": "code",
   "execution_count": 54,
   "id": "397cbf97",
   "metadata": {},
   "outputs": [
    {
     "data": {
      "text/html": [
       "<div>\n",
       "<style scoped>\n",
       "    .dataframe tbody tr th:only-of-type {\n",
       "        vertical-align: middle;\n",
       "    }\n",
       "\n",
       "    .dataframe tbody tr th {\n",
       "        vertical-align: top;\n",
       "    }\n",
       "\n",
       "    .dataframe thead th {\n",
       "        text-align: right;\n",
       "    }\n",
       "</style>\n",
       "<table border=\"1\" class=\"dataframe\">\n",
       "  <thead>\n",
       "    <tr style=\"text-align: right;\">\n",
       "      <th></th>\n",
       "      <th>Unnamed: 0</th>\n",
       "      <th>Kasus harian</th>\n",
       "      <th>Kasus Impor</th>\n",
       "      <th>Kasus Lokal</th>\n",
       "      <th>Total kasus</th>\n",
       "      <th>Kasus aktif</th>\n",
       "      <th>% kasus aktif</th>\n",
       "      <th>Sembuh\\n(baru)</th>\n",
       "      <th>Sembuh</th>\n",
       "      <th>Tingkat kesembuhan (seluruh kasus)</th>\n",
       "      <th>...</th>\n",
       "      <th>Positif DKI</th>\n",
       "      <th>Unnamed: 76</th>\n",
       "      <th>Pos Rate DKI</th>\n",
       "      <th>Pos Rate DKI - 7 harian</th>\n",
       "      <th>NON DKI</th>\n",
       "      <th>Positif Non DKI</th>\n",
       "      <th>Unnamed: 81</th>\n",
       "      <th>Pos Rate Non DKI</th>\n",
       "      <th>Pos Rate Non DKI - 7 harian</th>\n",
       "      <th>CFR</th>\n",
       "    </tr>\n",
       "  </thead>\n",
       "  <tbody>\n",
       "    <tr>\n",
       "      <th>0</th>\n",
       "      <td>3/2/2020</td>\n",
       "      <td>2</td>\n",
       "      <td>0.0</td>\n",
       "      <td>2.0</td>\n",
       "      <td>2</td>\n",
       "      <td>2.0</td>\n",
       "      <td>100.00%</td>\n",
       "      <td>0</td>\n",
       "      <td>0</td>\n",
       "      <td>0.00%</td>\n",
       "      <td>...</td>\n",
       "      <td>NaN</td>\n",
       "      <td>NaN</td>\n",
       "      <td>NaN</td>\n",
       "      <td>NaN</td>\n",
       "      <td>NaN</td>\n",
       "      <td>NaN</td>\n",
       "      <td>NaN</td>\n",
       "      <td>NaN</td>\n",
       "      <td>NaN</td>\n",
       "      <td>NaN</td>\n",
       "    </tr>\n",
       "    <tr>\n",
       "      <th>1</th>\n",
       "      <td>3/3/2020</td>\n",
       "      <td>0</td>\n",
       "      <td>0.0</td>\n",
       "      <td>0.0</td>\n",
       "      <td>2</td>\n",
       "      <td>2.0</td>\n",
       "      <td>100.00%</td>\n",
       "      <td>0</td>\n",
       "      <td>0</td>\n",
       "      <td>0.00%</td>\n",
       "      <td>...</td>\n",
       "      <td>NaN</td>\n",
       "      <td>NaN</td>\n",
       "      <td>NaN</td>\n",
       "      <td>NaN</td>\n",
       "      <td>NaN</td>\n",
       "      <td>NaN</td>\n",
       "      <td>NaN</td>\n",
       "      <td>NaN</td>\n",
       "      <td>NaN</td>\n",
       "      <td>NaN</td>\n",
       "    </tr>\n",
       "    <tr>\n",
       "      <th>2</th>\n",
       "      <td>3/4/2020</td>\n",
       "      <td>0</td>\n",
       "      <td>0.0</td>\n",
       "      <td>0.0</td>\n",
       "      <td>2</td>\n",
       "      <td>2.0</td>\n",
       "      <td>100.00%</td>\n",
       "      <td>0</td>\n",
       "      <td>0</td>\n",
       "      <td>0.00%</td>\n",
       "      <td>...</td>\n",
       "      <td>NaN</td>\n",
       "      <td>NaN</td>\n",
       "      <td>NaN</td>\n",
       "      <td>NaN</td>\n",
       "      <td>NaN</td>\n",
       "      <td>NaN</td>\n",
       "      <td>NaN</td>\n",
       "      <td>NaN</td>\n",
       "      <td>NaN</td>\n",
       "      <td>NaN</td>\n",
       "    </tr>\n",
       "    <tr>\n",
       "      <th>3</th>\n",
       "      <td>3/5/2020</td>\n",
       "      <td>0</td>\n",
       "      <td>0.0</td>\n",
       "      <td>0.0</td>\n",
       "      <td>2</td>\n",
       "      <td>2.0</td>\n",
       "      <td>100.00%</td>\n",
       "      <td>0</td>\n",
       "      <td>0</td>\n",
       "      <td>0.00%</td>\n",
       "      <td>...</td>\n",
       "      <td>NaN</td>\n",
       "      <td>NaN</td>\n",
       "      <td>NaN</td>\n",
       "      <td>NaN</td>\n",
       "      <td>NaN</td>\n",
       "      <td>NaN</td>\n",
       "      <td>NaN</td>\n",
       "      <td>NaN</td>\n",
       "      <td>NaN</td>\n",
       "      <td>NaN</td>\n",
       "    </tr>\n",
       "    <tr>\n",
       "      <th>4</th>\n",
       "      <td>3/6/2020</td>\n",
       "      <td>2</td>\n",
       "      <td>0.0</td>\n",
       "      <td>2.0</td>\n",
       "      <td>4</td>\n",
       "      <td>4.0</td>\n",
       "      <td>100.00%</td>\n",
       "      <td>0</td>\n",
       "      <td>0</td>\n",
       "      <td>0.00%</td>\n",
       "      <td>...</td>\n",
       "      <td>NaN</td>\n",
       "      <td>NaN</td>\n",
       "      <td>NaN</td>\n",
       "      <td>NaN</td>\n",
       "      <td>NaN</td>\n",
       "      <td>NaN</td>\n",
       "      <td>NaN</td>\n",
       "      <td>NaN</td>\n",
       "      <td>NaN</td>\n",
       "      <td>NaN</td>\n",
       "    </tr>\n",
       "  </tbody>\n",
       "</table>\n",
       "<p>5 rows × 85 columns</p>\n",
       "</div>"
      ],
      "text/plain": [
       "  Unnamed: 0 Kasus harian  Kasus Impor  Kasus Lokal Total kasus  Kasus aktif  \\\n",
       "0   3/2/2020            2          0.0          2.0           2          2.0   \n",
       "1   3/3/2020            0          0.0          0.0           2          2.0   \n",
       "2   3/4/2020            0          0.0          0.0           2          2.0   \n",
       "3   3/5/2020            0          0.0          0.0           2          2.0   \n",
       "4   3/6/2020            2          0.0          2.0           4          4.0   \n",
       "\n",
       "  % kasus aktif Sembuh\\n(baru) Sembuh Tingkat kesembuhan (seluruh kasus)  ...  \\\n",
       "0       100.00%              0      0                              0.00%  ...   \n",
       "1       100.00%              0      0                              0.00%  ...   \n",
       "2       100.00%              0      0                              0.00%  ...   \n",
       "3       100.00%              0      0                              0.00%  ...   \n",
       "4       100.00%              0      0                              0.00%  ...   \n",
       "\n",
       "  Positif DKI Unnamed: 76 Pos Rate DKI Pos Rate DKI - 7 harian NON DKI  \\\n",
       "0         NaN         NaN          NaN                     NaN     NaN   \n",
       "1         NaN         NaN          NaN                     NaN     NaN   \n",
       "2         NaN         NaN          NaN                     NaN     NaN   \n",
       "3         NaN         NaN          NaN                     NaN     NaN   \n",
       "4         NaN         NaN          NaN                     NaN     NaN   \n",
       "\n",
       "  Positif Non DKI Unnamed: 81 Pos Rate Non DKI Pos Rate Non DKI - 7 harian  \\\n",
       "0             NaN         NaN              NaN                         NaN   \n",
       "1             NaN         NaN              NaN                         NaN   \n",
       "2             NaN         NaN              NaN                         NaN   \n",
       "3             NaN         NaN              NaN                         NaN   \n",
       "4             NaN         NaN              NaN                         NaN   \n",
       "\n",
       "   CFR  \n",
       "0  NaN  \n",
       "1  NaN  \n",
       "2  NaN  \n",
       "3  NaN  \n",
       "4  NaN  \n",
       "\n",
       "[5 rows x 85 columns]"
      ]
     },
     "execution_count": 54,
     "metadata": {},
     "output_type": "execute_result"
    }
   ],
   "source": [
    "dataset.head()"
   ]
  },
  {
   "cell_type": "code",
   "execution_count": 55,
   "id": "a395cdae",
   "metadata": {},
   "outputs": [],
   "source": [
    "df = dataset[['Unnamed: 0','Kasus aktif']]\n",
    "df = df.dropna()"
   ]
  },
  {
   "cell_type": "code",
   "execution_count": 56,
   "id": "a879a539",
   "metadata": {},
   "outputs": [],
   "source": [
    "datetime_list = []\n",
    "for date in df['Unnamed: 0']:\n",
    "    month, day, year = date.split('/')\n",
    "    date_format = f'{year}-{month}-{day}'\n",
    "    new_date = parser.parse(date_format).date()\n",
    "    datetime_list.append(new_date)"
   ]
  },
  {
   "cell_type": "code",
   "execution_count": 57,
   "id": "1c865d4f",
   "metadata": {},
   "outputs": [],
   "source": [
    "df['date'] = datetime_list\n",
    "df['Kasus aktif'] = df['Kasus aktif'].astype('int')\n",
    "df = df.drop(['Unnamed: 0'], axis=1)"
   ]
  },
  {
   "cell_type": "code",
   "execution_count": 58,
   "id": "12d45be7",
   "metadata": {},
   "outputs": [],
   "source": [
    "df = df.set_index('date')"
   ]
  },
  {
   "cell_type": "code",
   "execution_count": 59,
   "id": "d4abce95",
   "metadata": {},
   "outputs": [
    {
     "data": {
      "text/html": [
       "<div>\n",
       "<style scoped>\n",
       "    .dataframe tbody tr th:only-of-type {\n",
       "        vertical-align: middle;\n",
       "    }\n",
       "\n",
       "    .dataframe tbody tr th {\n",
       "        vertical-align: top;\n",
       "    }\n",
       "\n",
       "    .dataframe thead th {\n",
       "        text-align: right;\n",
       "    }\n",
       "</style>\n",
       "<table border=\"1\" class=\"dataframe\">\n",
       "  <thead>\n",
       "    <tr style=\"text-align: right;\">\n",
       "      <th></th>\n",
       "      <th>Kasus aktif</th>\n",
       "    </tr>\n",
       "    <tr>\n",
       "      <th>date</th>\n",
       "      <th></th>\n",
       "    </tr>\n",
       "  </thead>\n",
       "  <tbody>\n",
       "    <tr>\n",
       "      <th>2020-03-02</th>\n",
       "      <td>2</td>\n",
       "    </tr>\n",
       "    <tr>\n",
       "      <th>2020-03-03</th>\n",
       "      <td>2</td>\n",
       "    </tr>\n",
       "    <tr>\n",
       "      <th>2020-03-04</th>\n",
       "      <td>2</td>\n",
       "    </tr>\n",
       "    <tr>\n",
       "      <th>2020-03-05</th>\n",
       "      <td>2</td>\n",
       "    </tr>\n",
       "    <tr>\n",
       "      <th>2020-03-06</th>\n",
       "      <td>4</td>\n",
       "    </tr>\n",
       "  </tbody>\n",
       "</table>\n",
       "</div>"
      ],
      "text/plain": [
       "            Kasus aktif\n",
       "date                   \n",
       "2020-03-02            2\n",
       "2020-03-03            2\n",
       "2020-03-04            2\n",
       "2020-03-05            2\n",
       "2020-03-06            4"
      ]
     },
     "execution_count": 59,
     "metadata": {},
     "output_type": "execute_result"
    }
   ],
   "source": [
    "df.head()"
   ]
  },
  {
   "cell_type": "code",
   "execution_count": 60,
   "id": "3c83fc85",
   "metadata": {},
   "outputs": [
    {
     "data": {
      "image/png": "[encoded data removed]",
      "text/plain": [
       "<Figure size 1152x576 with 1 Axes>"
      ]
     },
     "metadata": {
      "needs_background": "light"
     },
     "output_type": "display_data"
    }
   ],
   "source": [
    "%matplotlib inline\n",
    "plt.figure(figsize=(16, 8))\n",
    "plt.plot(df['Kasus aktif'].astype('int'))\n",
    "plt.title('Kasus Aktif Covid 19 Mar - Nov 2021', fontsize=16)\n",
    "plt.xlabel('Timeline', fontsize=14)\n",
    "plt.ylabel('Jumlah Kasus', fontsize=14)\n",
    "plt.show()"
   ]
  },
  {
   "cell_type": "markdown",
   "id": "f56a8789",
   "metadata": {},
   "source": [
    "## Preprocessing Dataset"
   ]
  },
  {
   "cell_type": "code",
   "execution_count": 61,
   "id": "ef79bc45",
   "metadata": {},
   "outputs": [],
   "source": [
    "from sklearn.preprocessing import MinMaxScaler"
   ]
  },
  {
   "cell_type": "code",
   "execution_count": 62,
   "id": "8fe54429",
   "metadata": {},
   "outputs": [],
   "source": [
    "dataset = df['Kasus aktif'].astype('int').values.reshape(-1,1)"
   ]
  },
  {
   "cell_type": "code",
   "execution_count": 63,
   "id": "e4c6bd21",
   "metadata": {},
   "outputs": [],
   "source": [
    "scaler = MinMaxScaler(feature_range=(0,1))"
   ]
  },
  {
   "cell_type": "code",
   "execution_count": 64,
   "id": "de1e3532",
   "metadata": {},
   "outputs": [],
   "source": [
    "scaled_dataset = scaler.fit_transform(dataset)"
   ]
  },
  {
   "cell_type": "code",
   "execution_count": 65,
   "id": "2502650a",
   "metadata": {},
   "outputs": [],
   "source": [
    "train_data = scaled_dataset[:len(scaled_dataset)-30]"
   ]
  },
  {
   "cell_type": "code",
   "execution_count": 66,
   "id": "06aaf5af",
   "metadata": {},
   "outputs": [],
   "source": [
    "x_train = []\n",
    "y_train = []"
   ]
  },
  {
   "cell_type": "code",
   "execution_count": 40,
   "id": "7354124d",
   "metadata": {},
   "outputs": [],
   "source": [
    "prediction_days = 30\n",
    "lenght_dataset = len(train_data)\n",
    "for x in range(prediction_days,lenght_dataset):\n",
    "    x_train.append(scaled_dataset[x-prediction_days:x, 0])\n",
    "    y_train.append(scaled_dataset[x, 0])\n",
    "    "
   ]
  },
  {
   "cell_type": "code",
   "execution_count": 41,
   "id": "f6f94443",
   "metadata": {},
   "outputs": [
    {
     "data": {
      "text/plain": [
       "((583, 30), (583,))"
      ]
     },
     "execution_count": 41,
     "metadata": {},
     "output_type": "execute_result"
    }
   ],
   "source": [
    "x_train, y_train = np.array(x_train), np.array(y_train)\n",
    "x_train.shape, y_train.shape"
   ]
  },
  {
   "cell_type": "code",
   "execution_count": 42,
   "id": "d2f1c1bf",
   "metadata": {},
   "outputs": [
    {
     "data": {
      "text/plain": [
       "(583, 30, 1)"
      ]
     },
     "execution_count": 42,
     "metadata": {},
     "output_type": "execute_result"
    }
   ],
   "source": [
    "x_train = np.expand_dims(x_train, axis=-1)\n",
    "x_train.shape"
   ]
  },
  {
   "cell_type": "code",
   "execution_count": 43,
   "id": "83f83126",
   "metadata": {},
   "outputs": [
    {
     "data": {
      "text/plain": [
       "(30, 1)"
      ]
     },
     "execution_count": 43,
     "metadata": {},
     "output_type": "execute_result"
    }
   ],
   "source": [
    "x_train.shape[1],x_train.shape[2]"
   ]
  },
  {
   "cell_type": "markdown",
   "id": "76028c4c",
   "metadata": {},
   "source": [
    "## Model"
   ]
  },
  {
   "cell_type": "code",
   "execution_count": 44,
   "id": "789d7878",
   "metadata": {},
   "outputs": [],
   "source": [
    "model = Sequential([\n",
    "    LSTM(50, return_sequences=True, input_shape=(x_train.shape[1], x_train.shape[2])),\n",
    "    Dropout(0.3),\n",
    "    LSTM(50, return_sequences=True),\n",
    "    Dropout(0.2),\n",
    "    LSTM(50),\n",
    "    Dropout(0.3),\n",
    "    Dense(1)\n",
    "])"
   ]
  },
  {
   "cell_type": "code",
   "execution_count": 45,
   "id": "a7e89e38",
   "metadata": {},
   "outputs": [],
   "source": [
    "model.compile(loss='mean_squared_error', optimizer='adam')"
   ]
  },
  {
   "cell_type": "code",
   "execution_count": 46,
   "id": "908f4ce9",
   "metadata": {},
   "outputs": [
    {
     "name": "stdout",
     "output_type": "stream",
     "text": [
      "Epoch 1/25\n",
      "19/19 [==============================] - 7s 28ms/step - loss: 0.0300\n",
      "Epoch 2/25\n",
      "19/19 [==============================] - 0s 19ms/step - loss: 0.0090\n",
      "Epoch 3/25\n",
      "19/19 [==============================] - 0s 18ms/step - loss: 0.0069\n",
      "Epoch 4/25\n",
      "19/19 [==============================] - 0s 19ms/step - loss: 0.0045\n",
      "Epoch 5/25\n",
      "19/19 [==============================] - 0s 18ms/step - loss: 0.0039\n",
      "Epoch 6/25\n",
      "19/19 [==============================] - 0s 18ms/step - loss: 0.0035\n",
      "Epoch 7/25\n",
      "19/19 [==============================] - 0s 19ms/step - loss: 0.0022\n",
      "Epoch 8/25\n",
      "19/19 [==============================] - 0s 19ms/step - loss: 0.0039\n",
      "Epoch 9/25\n",
      "19/19 [==============================] - 0s 18ms/step - loss: 0.0024\n",
      "Epoch 10/25\n",
      "19/19 [==============================] - 0s 18ms/step - loss: 0.0021\n",
      "Epoch 11/25\n",
      "19/19 [==============================] - 0s 18ms/step - loss: 0.0021\n",
      "Epoch 12/25\n",
      "19/19 [==============================] - 0s 18ms/step - loss: 0.0018\n",
      "Epoch 13/25\n",
      "19/19 [==============================] - 0s 19ms/step - loss: 0.0026\n",
      "Epoch 14/25\n",
      "19/19 [==============================] - 0s 18ms/step - loss: 0.0018\n",
      "Epoch 15/25\n",
      "19/19 [==============================] - 0s 18ms/step - loss: 0.0017\n",
      "Epoch 16/25\n",
      "19/19 [==============================] - 0s 19ms/step - loss: 0.0023\n",
      "Epoch 17/25\n",
      "19/19 [==============================] - 0s 18ms/step - loss: 0.0021\n",
      "Epoch 18/25\n",
      "19/19 [==============================] - 0s 19ms/step - loss: 0.0013\n",
      "Epoch 19/25\n",
      "19/19 [==============================] - 0s 19ms/step - loss: 0.0016\n",
      "Epoch 20/25\n",
      "19/19 [==============================] - 0s 19ms/step - loss: 0.0017\n",
      "Epoch 21/25\n",
      "19/19 [==============================] - 0s 18ms/step - loss: 0.0019\n",
      "Epoch 22/25\n",
      "19/19 [==============================] - 0s 19ms/step - loss: 0.0013\n",
      "Epoch 23/25\n",
      "19/19 [==============================] - 0s 18ms/step - loss: 0.0020\n",
      "Epoch 24/25\n",
      "19/19 [==============================] - 0s 18ms/step - loss: 0.0018\n",
      "Epoch 25/25\n",
      "19/19 [==============================] - 0s 19ms/step - loss: 0.0019\n"
     ]
    },
    {
     "data": {
      "text/plain": [
       "<keras.callbacks.History at 0x1cdb7feb130>"
      ]
     },
     "execution_count": 46,
     "metadata": {},
     "output_type": "execute_result"
    }
   ],
   "source": [
    "model.fit(x_train, y_train, epochs=25)"
   ]
  },
  {
   "cell_type": "markdown",
   "id": "eae8d41e",
   "metadata": {},
   "source": [
    "## Testing"
   ]
  },
  {
   "cell_type": "code",
   "execution_count": 109,
   "id": "6659b3f6",
   "metadata": {},
   "outputs": [],
   "source": [
    "test_data = scaled_dataset[len(scaled_dataset)-30-30:]"
   ]
  },
  {
   "cell_type": "code",
   "execution_count": 110,
   "id": "87738db6",
   "metadata": {},
   "outputs": [],
   "source": [
    "x_test = []"
   ]
  },
  {
   "cell_type": "code",
   "execution_count": 111,
   "id": "ca81459b",
   "metadata": {},
   "outputs": [],
   "source": [
    "for x in range(30, len(test_data)):\n",
    "    x_test.append(scaled_dataset[x-prediction_days:x, 0])"
   ]
  },
  {
   "cell_type": "code",
   "execution_count": 112,
   "id": "883ece0e",
   "metadata": {},
   "outputs": [
    {
     "data": {
      "text/plain": [
       "(30, 30, 1)"
      ]
     },
     "execution_count": 112,
     "metadata": {},
     "output_type": "execute_result"
    }
   ],
   "source": [
    "x_test = np.array(x_test)\n",
    "x_test = np.expand_dims(x_test, axis=-1)\n",
    "x_test.shape"
   ]
  },
  {
   "cell_type": "code",
   "execution_count": 113,
   "id": "c3823303",
   "metadata": {},
   "outputs": [],
   "source": [
    "predicted = model.predict(x_test)"
   ]
  },
  {
   "cell_type": "code",
   "execution_count": 124,
   "id": "eaf2df87",
   "metadata": {},
   "outputs": [
    {
     "data": {
      "text/plain": [
       "(30, 1)"
      ]
     },
     "execution_count": 124,
     "metadata": {},
     "output_type": "execute_result"
    }
   ],
   "source": [
    "predicted.shape"
   ]
  },
  {
   "cell_type": "code",
   "execution_count": 115,
   "id": "60be19ed",
   "metadata": {},
   "outputs": [],
   "source": [
    "predicted = scaler.inverse_transform(predicted)"
   ]
  },
  {
   "cell_type": "code",
   "execution_count": 116,
   "id": "d4a93c5e",
   "metadata": {},
   "outputs": [],
   "source": [
    "predicted = np.abs(predicted)"
   ]
  },
  {
   "cell_type": "code",
   "execution_count": 127,
   "id": "b5021a29",
   "metadata": {},
   "outputs": [],
   "source": [
    "actual_data = dataset[len(scaled_dataset)-30:]"
   ]
  },
  {
   "cell_type": "code",
   "execution_count": 128,
   "id": "0d8a4dda",
   "metadata": {},
   "outputs": [
    {
     "data": {
      "text/plain": [
       "(30, 1)"
      ]
     },
     "execution_count": 128,
     "metadata": {},
     "output_type": "execute_result"
    }
   ],
   "source": [
    "actual_data.shape"
   ]
  },
  {
   "cell_type": "code",
   "execution_count": 129,
   "id": "1b60eeb4",
   "metadata": {},
   "outputs": [
    {
     "data": {
      "image/png": "[encoded data removed]",
      "text/plain": [
       "<Figure size 864x432 with 1 Axes>"
      ]
     },
     "metadata": {
      "needs_background": "light"
     },
     "output_type": "display_data"
    }
   ],
   "source": [
    "plt.figure(figsize=(12,6))\n",
    "plt.plot(actual_data, color=\"black\", label=\"actual data\")\n",
    "plt.plot(predicted, color=\"green\", label=\"predicted data\")\n",
    "plt.title(\"Prediksi data\")\n",
    "plt.xlabel('Timeline', fontsize=14)\n",
    "plt.ylabel('Jumlah Kasus', fontsize=14)\n",
    "plt.legend()\n",
    "plt.show()"
   ]
  },
  {
   "cell_type": "code",
   "execution_count": null,
   "id": "ba84efd5",
   "metadata": {},
   "outputs": [],
   "source": []
  }
 ],
 "metadata": {
  "kernelspec": {
   "display_name": "Python 3 (ipykernel)",
   "language": "python",
   "name": "python3"
  },
  "language_info": {
   "codemirror_mode": {
    "name": "ipython",
    "version": 3
   },
   "file_extension": ".py",
   "mimetype": "text/x-python",
   "name": "python",
   "nbconvert_exporter": "python",
   "pygments_lexer": "ipython3",
   "version": "3.8.5"
  }
 },
 "nbformat": 4,
 "nbformat_minor": 5
}
